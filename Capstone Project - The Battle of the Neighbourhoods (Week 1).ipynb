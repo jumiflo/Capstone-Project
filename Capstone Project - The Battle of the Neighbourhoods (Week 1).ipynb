{
 "cells": [
  {
   "cell_type": "markdown",
   "metadata": {},
   "source": [
    "# Capstone Project - The Battle of the Neighbourhoods (Week 1)"
   ]
  },
  {
   "cell_type": "markdown",
   "metadata": {},
   "source": [
    "### Recommending alternative Districts in London based on Preferred Venues, Income and Population\n"
   ]
  },
  {
   "cell_type": "markdown",
   "metadata": {},
   "source": [
    "###### Laura Yates May 2021"
   ]
  },
  {
   "cell_type": "markdown",
   "metadata": {},
   "source": [
    "## Table of contents\n",
    "* [Introduction: Business Problem](#introduction)\n",
    "* [Data](#data)\n",
    "* [Methodology](#methodology)\n"
   ]
  },
  {
   "cell_type": "markdown",
   "metadata": {},
   "source": [
    "## Introduction: Business Problem <a name=\"introduction\"></a>"
   ]
  },
  {
   "cell_type": "markdown",
   "metadata": {},
   "source": [
    "This project aims to analyse the London area to help people decide the best place alternative place to live based on their local venues, population and area income. \n",
    "\n",
    "Person A enjoys living in a current area of London due to the locality of certain venues such as Pubs or Shops. They are required to move to a different district but wish to still enjoy the local ammenities they have become accustomed to.\n",
    "\n",
    "In order to help Person A in their decision making, this project will determine which other Districts in London are similar to the one they are currently living in.\n",
    "\n",
    "Although this project is aimed at Person A, the recommender system could also be used to help people determine the best districts to open new venues where there are non or very little still in existence, taking account of the population and average income of the district."
   ]
  },
  {
   "cell_type": "markdown",
   "metadata": {},
   "source": [
    "## Data <a name=\"data\"></a>"
   ]
  },
  {
   "cell_type": "markdown",
   "metadata": {},
   "source": [
    "For this project I will use the following resources to analyse the areas of London.\n",
    "\n",
    "To list the areas of London I will use this data from Doogal\n",
    "[https://www.doogal.co.uk](https://www.doogal.co.uk)\n",
    "\n",
    "\n",
    "Foursquare API Data:\n",
    "I will use Foursquare to provide information on the different areas in London for specific boroughs.\n",
    "Foursquare is a location data provider with information about venues and events within an area of interest. Such information includes venue names, locations, menus and even photos. \n",
    "\n",
    "The data retrieved from Foursquare contained information of venues within a specified distance of the longitude and latitude of the postcodes. The information obtained per venue as follows:\n",
    "\n",
    "1. Neighborhood\n",
    "2. Neighborhood Latitude\n",
    "3. Neighborhood Longitude\n",
    "4. Venue\n",
    "5. Name of the venue e.g. the name of a store or restaurant\n",
    "6. Venue Latitude\n",
    "7. Venue Longitude\n",
    "8. Venue Category\n"
   ]
  },
  {
   "cell_type": "markdown",
   "metadata": {},
   "source": [
    "## Methodology <a name=\"methodology\"></a>"
   ]
  },
  {
   "cell_type": "markdown",
   "metadata": {},
   "source": [
    "This project follows the following steps:\n",
    "   \n",
    "1. From the London Data determine the latitude and longtitude of each unique London District\n",
    "2. Plot the London Districts on a map to see their location\n",
    "3. Use Foursquare to retrieve a list of nearby venues for each london district\n",
    "4. Graphically plot the london districts total venue count\n",
    "5. Use onehot encoding to get the top 5 venues for each district\n",
    "6. Use K-means to cluster the neighborhoods that are most similar\n",
    "7. Determine which districts are the most populated and have the highest average income\n",
    "8. Select Venue which is the most important to Person A and provide a district count of this venue\n",
    "9. Select district where Person A currently resides and select similar districts from the k-means clustering\n",
    "10. Create a ranking of the similar districts based on the venue, population and income\n",
    "11. Recommend most suitable locations to move to\n",
    "    "
   ]
  },
  {
   "cell_type": "code",
   "execution_count": null,
   "metadata": {},
   "outputs": [],
   "source": []
  }
 ],
 "metadata": {
  "kernelspec": {
   "display_name": "Python 3",
   "language": "python",
   "name": "python3"
  },
  "language_info": {
   "codemirror_mode": {
    "name": "ipython",
    "version": 3
   },
   "file_extension": ".py",
   "mimetype": "text/x-python",
   "name": "python",
   "nbconvert_exporter": "python",
   "pygments_lexer": "ipython3",
   "version": "3.8.5"
  }
 },
 "nbformat": 4,
 "nbformat_minor": 4
}
