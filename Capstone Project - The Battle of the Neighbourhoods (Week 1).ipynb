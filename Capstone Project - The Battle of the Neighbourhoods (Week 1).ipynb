{
 "cells": [
  {
   "cell_type": "markdown",
   "metadata": {},
   "source": [
    "# Capstone Project - The Battle of the Neighbourhoods (Week 1)"
   ]
  },
  {
   "cell_type": "markdown",
   "metadata": {},
   "source": [
    "### Recommending Districts in London for opening a new restaurant, based on similar venues, Income and Population\n"
   ]
  },
  {
   "cell_type": "markdown",
   "metadata": {},
   "source": [
    "###### Laura Yates May 2021"
   ]
  },
  {
   "cell_type": "markdown",
   "metadata": {},
   "source": [
    "## Table of contents\n",
    "* [Introduction: Business Problem](#introduction)\n",
    "* [Data](#data)\n",
    "\n"
   ]
  },
  {
   "cell_type": "markdown",
   "metadata": {},
   "source": [
    "## Introduction: Business Problem <a name=\"introduction\"></a>"
   ]
  },
  {
   "cell_type": "markdown",
   "metadata": {},
   "source": [
    "This project aims to find the optimal location for a restaurant in the London area. It will help people decide where would be best to open new restaurants to ensure there is minimal competition in order to increase revenue. Specifically this report wil target stakeholders that are looking to open a **chinese restaurant** in **London**, England.\n",
    "\n",
    "\n",
    "London is well known for it's eating establishments and can provide a lucrative business option for new business owners wishing to open a restaurant. However, as competition is big, it is important that new business owners take into consideration other similar resturants in the area in which they wish to open.\n",
    "\n",
    "Since there are numerous restaurants throughout London, the project will aim to detect locations that are not already crowded with restaurants, in particular Chinese Restaurants. It will also take into account **population density** of the area and **average income** as the greater the number of people and the higher the average income, the more likely people are to visit the restaurant and spend money.\n",
    "\n",
    "The project will use datascience to create a shortlist of the most promising areas in London based on the criteria already outlined. This will highlight the advantages of these locations to the stakeholders so they are able to make the best possible decision."
   ]
  },
  {
   "cell_type": "markdown",
   "metadata": {},
   "source": [
    "## Data <a name=\"data\"></a>"
   ]
  },
  {
   "cell_type": "markdown",
   "metadata": {},
   "source": [
    "Factors that will influence the decision for the stakeholder are:\n",
    "\n",
    "* Number of exisisting restaurants in the area\n",
    "* Number of Chinese restaurants already in the area\n",
    "* Population in the area\n",
    "* Average Income of the area\n",
    "\n",
    "\n",
    "For this project I will use the following resources to analyse the areas of London.\n",
    "\n",
    "* Areas will be defined by taking the average latitude and longitude for London Districts from Doogal.\n",
    "* Doogal will also provide the average population and average income for each of these districts\n",
    "* Numbers and types of restaurants in each district will be found using Foursquare\n"
   ]
  }
 ],
 "metadata": {
  "kernelspec": {
   "display_name": "Python 3",
   "language": "python",
   "name": "python3"
  },
  "language_info": {
   "codemirror_mode": {
    "name": "ipython",
    "version": 3
   },
   "file_extension": ".py",
   "mimetype": "text/x-python",
   "name": "python",
   "nbconvert_exporter": "python",
   "pygments_lexer": "ipython3",
   "version": "3.8.5"
  }
 },
 "nbformat": 4,
 "nbformat_minor": 4
}
